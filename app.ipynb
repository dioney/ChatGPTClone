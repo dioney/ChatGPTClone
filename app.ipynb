import os
import openai
from dotenv import load_dotenv, find_dotenv

_ = load_dotenv(find_dotenv())

openai_key = os.getenv("OPENAI_API_KEY")

def response_model(
        messages,
        openai_key,
        model="gpt-3.5-turbo",
        temperature=0,
        stream=True,):
    
    openai.api_key = openai_key
    response = openai.ChatCompletion.create(
        model=model,
        messages=messages,
        temperature=temperature,
        stream=stream,
    )
    return response

messages = [{"role": "user", "content": "O que é uma maça?"}]

response = response_model(messages, openai_key)

print(response)